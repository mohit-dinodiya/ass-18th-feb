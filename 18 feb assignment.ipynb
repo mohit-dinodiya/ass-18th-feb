{
 "cells": [
  {
   "cell_type": "markdown",
   "id": "75bbc886-0cd4-4480-b57e-cb350fdb55c9",
   "metadata": {},
   "source": [
    "# ques1)\n",
    "# what is an api?give an example,where an api is used in real life?\n",
    "\n",
    "##### answer---API stands for \"application programming interface\".it is  set of protocal,routines,and tools for building software app that specify how software components sholud interact with each other.\n",
    "\n",
    "#### #in simpler terms,an API is like a messenger that allows dif software applications to communicate each other.it provides a standardized way for developers to access data or functanilty from another application,service or platform without having to know how it is implemented.\n",
    "\n",
    "##### API can be used to perform a wide range of tasks,such as retrieving data from a database,sending notifications,making payments,or processing images.they are commonly used in web-development,mobile app development and other software development projects to streamline the development process and make it easier for developers to intefrate dif technologies and serices into their app.\n",
    "\n",
    "##### there are many examples of APIs being used in real life.here are a few:\n",
    "\n",
    "##### 1.social media: social media platform such as facebook,twitter,and instagram provide APIs that allow third-party dev to integrate their applications with these plateforms. these allows dev to access user data and perform varios function,such as posting updates ,sending messeges, and retrieving user information.\n",
    "\n",
    "##### 2.travel: travel booking websites such as expedi and kayak use apis to retrieve data such as flight and hotel availabilty and prices from travel services.this allows users to search for and book travel arrangements directly from the booking site.\n",
    "\n",
    "##### overall,APIs are used in many industries and app to provide access to data and functionality,streamline processes,and improve the user experience."
   ]
  },
  {
   "cell_type": "markdown",
   "id": "cc7ec1d1-c0e7-4c8c-8e02-c1c20fd389fa",
   "metadata": {},
   "source": [
    "#  ques 2\n",
    "#  give advantages and disadvantages of using APIs?\n",
    "\n",
    "##### APIs provide a way for differnt software applications to communicate with each other,share data and functionality,and access each other's resources.here are some advantages and disadvantages of using APIs\n",
    "\n",
    "## advantages:\n",
    "##### reusability:APIs are designed to be reusable,which means that once an API is created ,it can be used by multiple app,reducing the amount of code duplicaton req for each application.\n",
    "##### integration:APIs is allows diff software app to integrate with each other,allowing them to share data and functionality.these means that businness can connect their app together and streamline their process,improving efficiency and productivity\n",
    "##### scalabilty:APIs can help app scale more efectively by allowing developers to add new functionality or resources as needed,without having to rewrite the entire application.\n",
    "##### Flexibilty:APIs can be designed to work with  variety of programming lan and platform,making it easier for dev to work with diff system and technologies.\n",
    "\n",
    "## disadvantages:\n",
    "\n",
    "##### complexity: APIs can be comples to design and implement,especially if they need to work with a variety of systems nd tech.this can make it diff for devlopers to create and maintain the API.\n",
    "\n",
    "##### cost: APIs can be expensive to create and maintain,this can be barrier for smaller business and dev.\n",
    "\n",
    "##### dependency: APIs create an dependency between the differnt app that use them,if APIs goes down and stop working,it can affect all of the app the rely on it.\n"
   ]
  },
  {
   "cell_type": "markdown",
   "id": "90f95f3b-0ada-4b52-b519-84f103bcaffa",
   "metadata": {},
   "source": [
    "# ques3\n",
    "# what is an web API?diff between web api and api?\n",
    "\n",
    "##### A web API is an API that allows communication between diff software system over the internet using HTTPs protocols.it is a web basedinterface thet allows other app to intercat with aparticlar web app or web server\n",
    "##### the main diff bw api is general term that refers to any interface that allows diff sof app to interact with each other\n",
    "##### API can be used for diff purpose,such as communication between differnt parts of single app or communication between diff app with a company internal networkin contrast,web api are desingd to allow comm be diff app over the internet."
   ]
  },
  {
   "cell_type": "markdown",
   "id": "401db60a-6acc-4df5-ba09-fd7af4badc71",
   "metadata": {},
   "source": [
    "# ques4\n",
    "# explain rest and soap architecture.mention shortcomings of soap?\n",
    "\n",
    "##### rest architecture: REST(reprentational state transfer) is a lightweight,client server arch that is designed to be simple and scalable.it is based on the principle of HTTP,WHICH IS THE PROTOCOL USED FOR transforming data over the web.restful APIs used http VERBS(suvh as get,post,push,delete)to access and manipulate resources on the web,rest apis uses JSON and XML for data exchange.\n",
    "\n",
    "\n",
    "##### SOAP architecture: (simple object access protocol) it is more complex,xml based protocol that is designed to provide a standardised way of communicating bw diff software systems.soap uses xml messeges that are sent over HTTPs to exchange data between client and server.soap has strict messeges format and requires more processing power to interpret the XML messeges structre\n",
    "\n",
    "##### shortcoming osf soap: complexity,processing overhead,platform dependency,poor performance and limited caching.rest architecture on other hand is lightweight,scalable,and easier to implement,making it popular choice for building web services."
   ]
  },
  {
   "cell_type": "markdown",
   "id": "4664c2c8-35bc-4df8-928e-6039a6b12127",
   "metadata": {},
   "source": [
    "# ques5\n",
    "# differentiate between REST and SOAP?\n",
    "\n",
    "##### REST and SOAP are 2 differnt architectural stles used for buildings web services.REST is lightweight,scalable,and efficient ,while SOAP is more complex and relies on heavyweight messegung protocol,rest is stateless,has a uniform interface,and is more easily cached,whi"
   ]
  }
 ],
 "metadata": {
  "kernelspec": {
   "display_name": "Python 3 (ipykernel)",
   "language": "python",
   "name": "python3"
  },
  "language_info": {
   "codemirror_mode": {
    "name": "ipython",
    "version": 3
   },
   "file_extension": ".py",
   "mimetype": "text/x-python",
   "name": "python",
   "nbconvert_exporter": "python",
   "pygments_lexer": "ipython3",
   "version": "3.10.8"
  }
 },
 "nbformat": 4,
 "nbformat_minor": 5
}
